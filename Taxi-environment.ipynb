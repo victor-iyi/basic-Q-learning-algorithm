{
 "cells": [
  {
   "cell_type": "markdown",
   "metadata": {
    "deletable": true,
    "editable": true
   },
   "source": [
    "# Basic Q-Learning Algorithm"
   ]
  },
  {
   "cell_type": "code",
   "execution_count": 1,
   "metadata": {
    "collapsed": true,
    "deletable": true,
    "editable": true
   },
   "outputs": [],
   "source": [
    "import sys\n",
    "import gym\n",
    "import numpy as np"
   ]
  },
  {
   "cell_type": "code",
   "execution_count": 2,
   "metadata": {
    "collapsed": false,
    "deletable": true,
    "editable": true
   },
   "outputs": [
    {
     "name": "stderr",
     "output_type": "stream",
     "text": [
      "[2017-11-14 11:39:46,318] Making new env: Taxi-v2\n"
     ]
    }
   ],
   "source": [
    "env = gym.make('Taxi-v2')"
   ]
  },
  {
   "cell_type": "code",
   "execution_count": 3,
   "metadata": {
    "collapsed": false,
    "deletable": true,
    "editable": true
   },
   "outputs": [
    {
     "name": "stdout",
     "output_type": "stream",
     "text": [
      "+---------+\n",
      "|\u001b[35mR\u001b[0m: | : :\u001b[34;1mG\u001b[0m|\n",
      "| : : : :\u001b[43m \u001b[0m|\n",
      "| : : : : |\n",
      "| | : | : |\n",
      "|Y| : |B: |\n",
      "+---------+\n",
      "\n"
     ]
    }
   ],
   "source": [
    "env.render()"
   ]
  },
  {
   "cell_type": "code",
   "execution_count": 4,
   "metadata": {
    "collapsed": true,
    "deletable": true,
    "editable": true
   },
   "outputs": [],
   "source": [
    "num_states = env.observation_space.n\n",
    "num_actions = env.action_space.n"
   ]
  },
  {
   "cell_type": "code",
   "execution_count": 5,
   "metadata": {
    "collapsed": false,
    "deletable": true,
    "editable": true
   },
   "outputs": [],
   "source": [
    "Q = np.zeros(shape=[num_states, num_actions])"
   ]
  },
  {
   "cell_type": "code",
   "execution_count": 6,
   "metadata": {
    "collapsed": true,
    "deletable": true,
    "editable": true
   },
   "outputs": [],
   "source": [
    "y = 0.5   # discount term\n",
    "l = 0.01  # learning rate"
   ]
  },
  {
   "cell_type": "code",
   "execution_count": 7,
   "metadata": {
    "collapsed": false,
    "deletable": true,
    "editable": true
   },
   "outputs": [
    {
     "name": "stdout",
     "output_type": "stream",
     "text": [
      "Episodes: 10,000\tReward: 20\tG: 8\tTotal rewards: 49,86747"
     ]
    }
   ],
   "source": [
    "total_rewards = 0\n",
    "for episode in range(1, 10000):\n",
    "    done = False\n",
    "    G, reward = 0,0\n",
    "    state = env.reset()\n",
    "    while done != True:\n",
    "        action = np.argmax(Q[state]) #1\n",
    "        state2, reward, done, info = env.step(action) #2\n",
    "        Q[state, action] += y * (reward + np.max(Q[state2]) - Q[state, action]) #3\n",
    "        G += reward\n",
    "        total_rewards += reward\n",
    "        state = state2\n",
    "        sys.stdout.write('\\rEpisodes: {:,}\\tReward: {:,}\\tG: {:,}\\tTotal rewards: {:,}'.format(episode+1, reward, G, total_rewards))"
   ]
  },
  {
   "cell_type": "code",
   "execution_count": 8,
   "metadata": {
    "collapsed": false,
    "deletable": true,
    "editable": true
   },
   "outputs": [
    {
     "data": {
      "text/plain": [
       "array([[  0.00000000e+00,   0.00000000e+00,   0.00000000e+00,\n",
       "          0.00000000e+00,   0.00000000e+00,   0.00000000e+00],\n",
       "       [ -3.32812500e+00,  -3.50000000e+00,  -3.87890625e+00,\n",
       "         -3.50000000e+00,   2.45477028e+04,  -5.00000000e+00],\n",
       "       [ -3.01562500e+00,  -3.00000000e+00,  -3.72656250e+00,\n",
       "         -3.00000000e+00,   2.43815799e+04,  -5.00000000e+00],\n",
       "       ..., \n",
       "       [ -2.50000000e+00,  -2.12500000e+00,  -2.50000000e+00,\n",
       "         -2.75000000e+00,  -5.00000000e+00,  -5.00000000e+00],\n",
       "       [ -4.50000000e+00,  -4.81494141e+00,  -4.50000000e+00,\n",
       "         -4.89575195e+00,  -5.00000000e+00,  -5.00000000e+00],\n",
       "       [ -1.00000000e+00,  -1.00000000e+00,  -1.00000000e+00,\n",
       "          4.25000000e+00,  -5.00000000e+00,  -5.00000000e+00]])"
      ]
     },
     "execution_count": 8,
     "metadata": {},
     "output_type": "execute_result"
    }
   ],
   "source": [
    "Q"
   ]
  },
  {
   "cell_type": "code",
   "execution_count": null,
   "metadata": {
    "collapsed": true,
    "deletable": true,
    "editable": true
   },
   "outputs": [],
   "source": []
  }
 ],
 "metadata": {
  "kernelspec": {
   "display_name": "Python 3",
   "language": "python",
   "name": "python3"
  },
  "language_info": {
   "codemirror_mode": {
    "name": "ipython",
    "version": 3
   },
   "file_extension": ".py",
   "mimetype": "text/x-python",
   "name": "python",
   "nbconvert_exporter": "python",
   "pygments_lexer": "ipython3",
   "version": "3.6.3"
  }
 },
 "nbformat": 4,
 "nbformat_minor": 2
}
